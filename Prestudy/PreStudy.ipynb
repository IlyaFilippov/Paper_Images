{
 "cells": [
  {
   "cell_type": "code",
   "execution_count": 2,
   "metadata": {},
   "outputs": [],
   "source": [
    "import pandas as pd\n",
    "from numpy import random\n",
    "import matplotlib.pyplot as plt\n",
    "import numpy as np\n",
    "from scipy import stats\n",
    "import pylab as P\n",
    "import seaborn as sns\n",
    "from collections import Counter\n",
    "import matplotlib.image as image\n",
    "\n",
    "#für bar chart aus https://stackoverflow.com/questions/23317150/python-matplotlib-legend-shows-first-entry-of-a-list-only\n",
    "from itertools import cycle, islice\n",
    "import matplotlib.ticker as mtick\n",
    "\n",
    "\n",
    "df = pd.read_csv('data_prestudy.csv', encoding = 'utf-8', sep=';' )\n",
    "\n",
    "real = df.loc[:0]\n",
    "data = df.loc[1:]\n"
   ]
  },
  {
   "cell_type": "markdown",
   "metadata": {},
   "source": [
    "# Fix missing font:\n",
    "\n",
    "Install fonts included in the folder of this project"
   ]
  },
  {
   "cell_type": "code",
   "execution_count": 3,
   "metadata": {},
   "outputs": [],
   "source": [
    "import matplotlib.font_manager\n",
    "matplotlib.font_manager.findSystemFonts(fontpaths=None, fontext='ttf')\n",
    "\n",
    "from matplotlib import rc\n",
    "rc('font', **{'serif': ['cmunss']})\n",
    "rc('text', usetex=True)\n",
    "\n",
    "SMALL_SIZE = 11\n",
    "X_TICK_SIZE = 12\n",
    "MEDIUM_SIZE = 16\n",
    "\n",
    "plt.rc('font', size=SMALL_SIZE)          # controls default text sizes\n",
    "plt.rc('axes', titlesize=SMALL_SIZE)     # fontsize of the axes title\n",
    "plt.rc('axes', labelsize=MEDIUM_SIZE)    # fontsize of the x and y labels\n",
    "plt.rc('xtick', labelsize=X_TICK_SIZE)    # fontsize of the tick labels\n",
    "plt.rc('ytick', labelsize=SMALL_SIZE)    # fontsize of the tick labels\n",
    "plt.rc('legend', fontsize=MEDIUM_SIZE)    # legend fontsize\n",
    "#plt.rc('figure', titlesize=BIGGER_SIZE)  # fontsize of the figure title"
   ]
  },
  {
   "cell_type": "markdown",
   "metadata": {},
   "source": [
    "# Legende:\n",
    "'L' :     Lange Vib. richtig interpretiert\n",
    "\n",
    "'S' :     Kurze Vib. richtig interpretiert\n",
    "\n",
    "'L(S)':   Kurze Vib. wird für lange gehalten\n",
    "\n",
    "'S(L)':   Lange Vib. wird für kurze gehalten\n",
    "\n",
    "'X(S/L)': Kurze/lange Vibration nicht wahrgenommen\n",
    "\n",
    "'P(S/L)': PhantomVibration (Vibration zum Zeitpunkt wahrgenommen, zu dem keine war)\n"
   ]
  },
  {
   "cell_type": "code",
   "execution_count": 4,
   "metadata": {},
   "outputs": [],
   "source": [
    "def calc_occurence(a):\n",
    "    occurrence = []\n",
    "    for i in a:\n",
    "        values = i.split('-')\n",
    "        for j in values:\n",
    "            occurrence.append(j)\n",
    "            \n",
    "    return Counter(occurrence)\n",
    "\n",
    "def calc_perceived(a, amount_vib):\n",
    "    occurence = calc_occurence(a)\n",
    "    # correctly guessed vibrations\n",
    "    correct = occurence['S'] + occurence['L']\n",
    "    # wrongly guessed but at right time ==> perceived\n",
    "    wrong = occurence['S(L)'] + occurence['L(S)']\n",
    "    return (correct + wrong)/amount_vib\n",
    "\n",
    "def calc_correctly_interpreted(a, amount_vib):\n",
    "    occurence = calc_occurence(a)\n",
    "    return (occurence['S'] + occurence['L'])/amount_vib"
   ]
  },
  {
   "cell_type": "code",
   "execution_count": 5,
   "metadata": {},
   "outputs": [
    {
     "name": "stdout",
     "output_type": "stream",
     "text": [
      "1.0\n",
      "1.0\n",
      "0.96\n",
      "0.9\n"
     ]
    },
    {
     "data": {
      "text/plain": [
       "Counter({'S': 52,\n",
       "         'L': 38,\n",
       "         'P(L)': 1,\n",
       "         'X(S)': 2,\n",
       "         'S(L)': 5,\n",
       "         'L(S)': 1,\n",
       "         'X(L)': 2})"
      ]
     },
     "execution_count": 5,
     "metadata": {},
     "output_type": "execute_result"
    }
   ],
   "source": [
    "amount_vib = [100, 110, 130]\n",
    "perceived = []\n",
    "correct = []\n",
    "\n",
    "d1 = data['1_Kontrolle'].append(data['2_Kontrolle'])\n",
    "p = calc_perceived(d1,amount_vib[0])\n",
    "c = calc_correctly_interpreted(d1,amount_vib[0])\n",
    "\n",
    "perceived.append(p)\n",
    "correct.append(c)\n",
    "\n",
    "print(p)\n",
    "print(c)\n",
    "\n",
    "calc_occurence(d1)\n",
    "\n",
    "d4 = data['7_Kontrolle'].append(data['8_Kontrolle'])\n",
    "p = calc_perceived(d4,amount_vib[0])\n",
    "c = calc_correctly_interpreted(d4,amount_vib[0])\n",
    "\n",
    "perceived.append(p)\n",
    "correct.append(c)\n",
    "\n",
    "print(p)\n",
    "print(c)\n",
    "\n",
    "calc_occurence(d4)\n"
   ]
  },
  {
   "cell_type": "code",
   "execution_count": 6,
   "metadata": {},
   "outputs": [
    {
     "name": "stdout",
     "output_type": "stream",
     "text": [
      "0.9363636363636364\n",
      "0.9363636363636364\n",
      "0.6545454545454545\n",
      "0.5\n"
     ]
    },
    {
     "data": {
      "text/plain": [
       "Counter({'S(L)': 13,\n",
       "         'L': 23,\n",
       "         'L(S)': 4,\n",
       "         'X(S)': 24,\n",
       "         'S': 32,\n",
       "         'X(L)': 14,\n",
       "         'P(L)': 1,\n",
       "         'P(S)': 3})"
      ]
     },
     "execution_count": 6,
     "metadata": {},
     "output_type": "execute_result"
    }
   ],
   "source": [
    "d2 = data['3_Kontrolle'].append(data['4_Kontrolle'])\n",
    "p = calc_perceived(d2,amount_vib[1])\n",
    "c = calc_correctly_interpreted(d2,amount_vib[1])\n",
    "\n",
    "perceived.append(p)\n",
    "correct.append(c)\n",
    "\n",
    "print(p)\n",
    "print(c)\n",
    "\n",
    "calc_occurence(d2)\n",
    "\n",
    "\n",
    "d5 = data['9_Kontrolle'].append(data['10_Kontrolle'])\n",
    "p = calc_perceived(d5,amount_vib[1])\n",
    "c = calc_correctly_interpreted(d5,amount_vib[1])\n",
    "\n",
    "perceived.append(p)\n",
    "correct.append(c)\n",
    "\n",
    "print(p)\n",
    "print(c)\n",
    "\n",
    "calc_occurence(d5)"
   ]
  },
  {
   "cell_type": "code",
   "execution_count": 7,
   "metadata": {},
   "outputs": [
    {
     "name": "stdout",
     "output_type": "stream",
     "text": [
      "0.7153846153846154\n",
      "0.6076923076923076\n",
      "0.03076923076923077\n",
      "0.015384615384615385\n"
     ]
    },
    {
     "data": {
      "text/plain": [
       "Counter({'X(L)': 63,\n",
       "         'X(S)': 63,\n",
       "         'P(S)': 1,\n",
       "         'L': 1,\n",
       "         'S(L)': 1,\n",
       "         'S': 1,\n",
       "         'L(S)': 1})"
      ]
     },
     "execution_count": 7,
     "metadata": {},
     "output_type": "execute_result"
    }
   ],
   "source": [
    "d3 = data['5_Kontrolle'].append(data['6_Kontrolle'])\n",
    "p = calc_perceived(d3,amount_vib[2])\n",
    "c = calc_correctly_interpreted(d3,amount_vib[2])\n",
    "\n",
    "perceived.append(p)\n",
    "correct.append(c)\n",
    "\n",
    "print(p)\n",
    "print(c)\n",
    "\n",
    "calc_occurence(d3)\n",
    "\n",
    "d6 = data['11_Kontrolle'].append(data['12_Kontrolle'])\n",
    "p = calc_perceived(d6,amount_vib[2])\n",
    "c = calc_correctly_interpreted(d6,amount_vib[2])\n",
    "\n",
    "perceived.append(p)\n",
    "correct.append(c)\n",
    "\n",
    "print(p)\n",
    "print(c)\n",
    "\n",
    "calc_occurence(d6)"
   ]
  },
  {
   "cell_type": "code",
   "execution_count": 8,
   "metadata": {
    "scrolled": true
   },
   "outputs": [
    {
     "data": {
      "image/png": "[encoded data removed]",
      "text/plain": [
       "<Figure size 504x288 with 4 Axes>"
      ]
     },
     "metadata": {
      "needs_background": "light"
     },
     "output_type": "display_data"
    }
   ],
   "source": [
    "perceived_graph = [i * 100 for i in perceived]\n",
    "correct_graph = [i * 100 for i in correct]\n",
    "\n",
    "fig, ax = plt.subplots()\n",
    "colors = ['#ff7f0e','#2ca02c']\n",
    "x_label=['R1','R4','R2','R5','R3','R6']\n",
    "index = np.arange(6)\n",
    "width = 0.3\n",
    "\n",
    "bar_perceived = ax.bar(index, perceived_graph ,align='center', alpha=0.6, width = width,color=colors[0])\n",
    "bar_correct = ax.bar(index + width, correct_graph ,align='center', alpha=0.6, width = width,color=colors[1])\n",
    "plt.yticks(np.arange(0, 150, step=20))\n",
    "\n",
    "ax.set_xticks(index + width/2)\n",
    "ax.set_xticklabels(x_label)\n",
    "\n",
    "\n",
    "def autolabel(bar_data_one,bar_data_two,barchart):\n",
    "    height_one = []\n",
    "    height_two = []\n",
    "    for i in range(len(bar_data_one)):\n",
    "        height_one.append(bar_data_one[i])\n",
    "        height_two.append(bar_data_two[i])\n",
    "    i = 0\n",
    "    for bar in barchart:\n",
    "        if(height_one[i] == height_two[i]):\n",
    "            ax.text(bar.get_x()+width/2 + bar.get_width()/2, 1.05* height_one[i],'%.1f' % float(height_one[i]), ha='center', va='bottom') \n",
    "        else:\n",
    "            ax.text(bar.get_x() + bar.get_width()/2, 1.05* height_one[i],'%.1f' % float(height_one[i]), ha='center', va='bottom')\n",
    "            ax.text(bar.get_x() + width + bar.get_width()/2 + 0.02, 1.05* height_two[i],'%.1f' % float(height_two[i]), ha='center', va='bottom')\n",
    "\n",
    "        i += 1\n",
    "        \n",
    "ax.axes.yaxis.set_ticklabels([0,\"20%\",\"40%\",\"60%\",\"80%\",\"100%\"])    \n",
    "    \n",
    "autolabel(perceived_graph,correct_graph,bar_perceived)\n",
    "ax.legend((bar_perceived, bar_correct), ('Perceived', 'Correctly interpreted'),loc=8,bbox_to_anchor=(0.5, 1),ncol=3) #\n",
    "\n",
    "plt.axvline(x=1.65,color='k')\n",
    "plt.axvline(x=3.65,color='k')\n",
    "\n",
    "\n",
    "ax.text(0.3, 125, r'Sitting', fontsize=MEDIUM_SIZE)\n",
    "ax.text(2.2, 125, r'Standing', fontsize=MEDIUM_SIZE)\n",
    "ax.text(4.22, 125, r'Walking', fontsize=MEDIUM_SIZE)\n",
    "\n",
    "import matplotlib.image as image\n",
    "import os\n",
    "from matplotlib.cbook import get_sample_data\n",
    "\n",
    "dir_path = os.getcwd()\n",
    "\n",
    "path_icon = os.getcwd() + '\\\\headphones_small.png'\n",
    "\n",
    "im = plt.imread(get_sample_data(path_icon))\n",
    "\n",
    "newax = fig.add_axes([0.34, 0.06, 0.05, 0.05,])\n",
    "newax.imshow(im)\n",
    "newax.axis('off')\n",
    "newax2 = fig.add_axes([0.59, 0.06, 0.05, 0.05,])\n",
    "newax2.imshow(im)\n",
    "newax2.axis('off')\n",
    "newax3 = fig.add_axes([0.845, 0.06, 0.05, 0.05,])\n",
    "newax3.imshow(im)\n",
    "newax3.axis('off')\n",
    "\n",
    "fig.set_figwidth(7)\n",
    "plt.savefig(\"Results_Prestudy.pdf\", bbox_inches='tight')\n",
    "plt.show()\n",
    "\n",
    "\n",
    "\n",
    "\n"
   ]
  },
  {
   "cell_type": "code",
   "execution_count": 9,
   "metadata": {},
   "outputs": [
    {
     "name": "stdout",
     "output_type": "stream",
     "text": [
      "Counter({'S': 230, 'L': 199, 'X(S)': 118, 'X(L)': 94, 'S(L)': 27, 'L(S)': 12, 'P(L)': 6, 'P(S)': 4})\n"
     ]
    }
   ],
   "source": [
    "# Auf deine Anfrage per Mail: Es wurden öfters lange Vibrationen für kurze gehalten\n",
    "\n",
    "all_data = []\n",
    "for i in range(1,13):\n",
    "    values = data[str(i) + '_Kontrolle']\n",
    "    for j in values:\n",
    "        arr = j.split('-')\n",
    "        for k in arr:\n",
    "            all_data.append(k)\n",
    "\n",
    "dict_all_data = Counter(all_data)        \n",
    "\n",
    "print(dict_all_data)"
   ]
  }
 ],
 "metadata": {
  "kernelspec": {
   "display_name": "Python 3",
   "language": "python",
   "name": "python3"
  },
  "language_info": {
   "codemirror_mode": {
    "name": "ipython",
    "version": 3
   },
   "file_extension": ".py",
   "mimetype": "text/x-python",
   "name": "python",
   "nbconvert_exporter": "python",
   "pygments_lexer": "ipython3",
   "version": "3.7.0"
  }
 },
 "nbformat": 4,
 "nbformat_minor": 2
}
